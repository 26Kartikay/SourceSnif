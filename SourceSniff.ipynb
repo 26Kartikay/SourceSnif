{
 "cells": [
  {
   "cell_type": "markdown",
   "id": "92bdc828",
   "metadata": {},
   "source": [
    "Taking Inpuut"
   ]
  },
  {
   "cell_type": "code",
   "execution_count": null,
   "id": "4ef72e0b",
   "metadata": {},
   "outputs": [
    {
     "ename": "ModuleNotFoundError",
     "evalue": "No module named 'langchain_community.document_loader'",
     "output_type": "error",
     "traceback": [
      "\u001b[31m---------------------------------------------------------------------------\u001b[39m",
      "\u001b[31mModuleNotFoundError\u001b[39m                       Traceback (most recent call last)",
      "\u001b[36mCell\u001b[39m\u001b[36m \u001b[39m\u001b[32mIn[2]\u001b[39m\u001b[32m, line 2\u001b[39m\n\u001b[32m      1\u001b[39m pdf_path=\u001b[38;5;28minput\u001b[39m(\u001b[33m\"\u001b[39m\u001b[33menter pdf path:\u001b[39m\u001b[33m\"\u001b[39m)\n\u001b[32m----> \u001b[39m\u001b[32m2\u001b[39m \u001b[38;5;28;01mfrom\u001b[39;00m\u001b[38;5;250m \u001b[39m\u001b[34;01mlangchain_community\u001b[39;00m\u001b[34;01m.\u001b[39;00m\u001b[34;01mdocument_loader\u001b[39;00m\u001b[38;5;250m \u001b[39m\u001b[38;5;28;01mimport\u001b[39;00m pdf_loader\n\u001b[32m      3\u001b[39m doc=pdf_loader(pdf_path)\n",
      "\u001b[31mModuleNotFoundError\u001b[39m: No module named 'langchain_community.document_loader'"
     ]
    }
   ],
   "source": [
    "pdf_path=input(\"enter pdf path:\")\n",
    "from langchain_community.document_loaders import pdf_loader\n",
    "doc=pdf_loader(pdf_path)\n",
    "doc"
   ]
  },
  {
   "cell_type": "code",
   "execution_count": null,
   "id": "c112afcf",
   "metadata": {},
   "outputs": [],
   "source": []
  }
 ],
 "metadata": {
  "kernelspec": {
   "display_name": "SourceSn",
   "language": "python",
   "name": "python3"
  },
  "language_info": {
   "codemirror_mode": {
    "name": "ipython",
    "version": 3
   },
   "file_extension": ".py",
   "mimetype": "text/x-python",
   "name": "python",
   "nbconvert_exporter": "python",
   "pygments_lexer": "ipython3",
   "version": "3.12.6"
  }
 },
 "nbformat": 4,
 "nbformat_minor": 5
}
